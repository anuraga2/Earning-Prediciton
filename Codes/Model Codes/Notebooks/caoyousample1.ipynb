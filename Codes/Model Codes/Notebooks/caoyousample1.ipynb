{
 "cells": [
  {
   "cell_type": "code",
   "execution_count": 2,
   "metadata": {
    "execution": {
     "iopub.execute_input": "2021-07-20T20:44:27.344879Z",
     "iopub.status.busy": "2021-07-20T20:44:27.344515Z",
     "iopub.status.idle": "2021-07-20T20:44:30.915647Z",
     "shell.execute_reply": "2021-07-20T20:44:30.914710Z",
     "shell.execute_reply.started": "2021-07-20T20:44:27.344804Z"
    }
   },
   "outputs": [],
   "source": [
    "# sklearn imports\n",
    "from sklearn.base import BaseEstimator, TransformerMixin\n",
    "from sklearn.pipeline import Pipeline, FeatureUnion\n",
    "from sklearn.preprocessing import StandardScaler, OneHotEncoder\n",
    "from sklearn.linear_model import LinearRegression\n",
    "from sklearn.ensemble import RandomForestRegressor\n",
    "from sklearn.metrics import mean_squared_error\n",
    "from sklearn.impute import SimpleImputer\n",
    "from sklearn.model_selection import GridSearchCV\n",
    "\n",
    "# other imports\n",
    "import pyarrow.parquet as pq\n",
    "import pandas as pd\n",
    "import numpy as np\n",
    "import plotly.express as px\n",
    "import plotly.graph_objects as go"
   ]
  },
  {
   "cell_type": "code",
   "execution_count": 3,
   "metadata": {
    "execution": {
     "iopub.execute_input": "2021-07-20T20:44:30.917612Z",
     "iopub.status.busy": "2021-07-20T20:44:30.917288Z",
     "iopub.status.idle": "2021-07-20T20:44:33.137945Z",
     "shell.execute_reply": "2021-07-20T20:44:33.137157Z",
     "shell.execute_reply.started": "2021-07-20T20:44:30.917578Z"
    }
   },
   "outputs": [],
   "source": [
    "## Reading the Parquet file and converting it to a pandas dataframe\n",
    "df = pq.read_table('CaoYouSample.parquet')\n",
    "df = df.to_pandas()"
   ]
  },
  {
   "cell_type": "code",
   "execution_count": 4,
   "metadata": {
    "execution": {
     "iopub.execute_input": "2021-07-20T20:44:33.139925Z",
     "iopub.status.busy": "2021-07-20T20:44:33.139609Z",
     "iopub.status.idle": "2021-07-20T20:44:33.773863Z",
     "shell.execute_reply": "2021-07-20T20:44:33.773021Z",
     "shell.execute_reply.started": "2021-07-20T20:44:33.139899Z"
    }
   },
   "outputs": [],
   "source": [
    "## Data Cleaning steps before we jump into test - train split and transformations\n",
    "df_new = df.copy()\n",
    "rem_cols = ['CONM', 'TIC', 'CUSIP','FiscalYearEnd', 'FYEND_plus_3mos','LPERMNO','FYR','SIC','DATADATE']\n",
    "df_new.drop(rem_cols, axis = 1, inplace = True)\n",
    "df_new = df_new.drop_duplicates()\n",
    "df_new = df_new.dropna()"
   ]
  },
  {
   "cell_type": "code",
   "execution_count": 8,
   "metadata": {},
   "outputs": [],
   "source": [
    "# helper function to return the column list under each column type\n",
    "def col_classification(df):\n",
    "    emp_dict = {}\n",
    "    for types in df.dtypes.unique():\n",
    "        if types in emp_dict:\n",
    "            continue\n",
    "        else:\n",
    "            emp_dict[types] = []\n",
    "    \n",
    "    for col in df.columns:\n",
    "        emp_dict[df[col].dtypes].append(col)\n",
    "    \n",
    "    return emp_dict\n",
    "\n",
    "# helper function to transform the input data frame (This function normalized all the input variables w.r.t 'CEQ' column)\n",
    "# CEQ: Common Equity\n",
    "def transform_X(df):\n",
    "    X_ = df.copy()\n",
    "    for col in X_.columns:\n",
    "        if col != 'CEQ':\n",
    "            \n",
    "            # creating a new column name (per equity)\n",
    "            col_str = col + '_PER_EQ'\n",
    "            X_.loc[:,col_str] = X_[col] / X_['CEQ']\n",
    "            \n",
    "            # dropping the redundant column\n",
    "            X_.drop(col, axis = 1, inplace = True)\n",
    "        else:\n",
    "            continue\n",
    "    \n",
    "    # replacing Inifinities with nan and then truncating it to zero\n",
    "    X_ = X_.replace([np.inf, -np.inf], np.nan)\n",
    "    X_ = X_.fillna(0)\n",
    "    \n",
    "    # returning the dataframe as a matrix\n",
    "    return X_.values"
   ]
  },
  {
   "cell_type": "code",
   "execution_count": 10,
   "metadata": {},
   "outputs": [],
   "source": [
    "# calling the col_classification function\n",
    "dtype_dict = col_classification(df_new)\n",
    "\n",
    "# Creating list of X and Y columns\n",
    "X = [item for item in dtype_dict[list(dtype_dict.keys())[1]] if item != 'E_F1' and item != 'FYEAR']\n",
    "y = [item for item in dtype_dict[list(dtype_dict.keys())[1]] if item == 'E_F1']\n",
    "\n",
    "# separating out test and train data sets (for the year - 2016)\n",
    "year = 2016\n",
    "\n",
    "train_X = df_new.loc[(df_new['FYEAR'] >= (year-10)) & (df_new['FYEAR'] <= (year-1)), X]\n",
    "train_y = df_new.loc[(df_new['FYEAR'] >= (year-10)) & (df_new['FYEAR'] <= (year-1)), y]\n",
    "\n",
    "test_X = df_new.loc[df_new['FYEAR'] == year, X]\n",
    "test_y = df_new.loc[df_new['FYEAR'] == year, y]"
   ]
  },
  {
   "cell_type": "code",
   "execution_count": 11,
   "metadata": {},
   "outputs": [],
   "source": [
    "# Preparing the input data frame for training purpose\n",
    "X_prepared = transform_X(train_X)"
   ]
  },
  {
   "cell_type": "code",
   "execution_count": null,
   "metadata": {
    "execution": {
     "iopub.execute_input": "2021-07-20T20:44:41.907801Z",
     "iopub.status.busy": "2021-07-20T20:44:41.907458Z"
    }
   },
   "outputs": [],
   "source": [
    "# Setting up the hyperparameter search space for the RF Model\n",
    "#parameters = {'max_features':['auto'],'max_depth':[20,25,30,35],'min_samples_leaf':[15,20,25,50]}\n",
    "parameters = {'max_features':['auto'],'max_depth':[30],'min_samples_leaf':[25]}\n",
    "\n",
    "# Setting up the Random forest model\n",
    "rf_mod = RandomForestRegressor(n_estimators=500,criterion='mse',oob_score=True,n_jobs=-1,random_state=10)\n",
    "\n",
    "# Setting up the Grid Search object\n",
    "grid_search = GridSearchCV(rf_mod, parameters, cv=5, n_jobs=-1, scoring='neg_mean_squared_error')\n",
    "\n",
    "# Fitting the model\n",
    "grid_search.fit(X_prepared, train_y)"
   ]
  },
  {
   "cell_type": "code",
   "execution_count": 12,
   "metadata": {
    "execution": {
     "iopub.execute_input": "2021-07-20T18:24:17.800625Z",
     "iopub.status.busy": "2021-07-20T18:24:17.800223Z",
     "iopub.status.idle": "2021-07-20T18:24:18.133041Z",
     "shell.execute_reply": "2021-07-20T18:24:18.132149Z",
     "shell.execute_reply.started": "2021-07-20T18:24:17.800589Z"
    }
   },
   "outputs": [],
   "source": [
    "test_X_prepared = transform_X(test_X)\n",
    "pred = grid_search.predict(test_X_prepared)"
   ]
  },
  {
   "cell_type": "code",
   "execution_count": 14,
   "metadata": {
    "execution": {
     "iopub.execute_input": "2021-07-20T18:24:26.089448Z",
     "iopub.status.busy": "2021-07-20T18:24:26.089107Z",
     "iopub.status.idle": "2021-07-20T18:24:26.097336Z",
     "shell.execute_reply": "2021-07-20T18:24:26.096067Z",
     "shell.execute_reply.started": "2021-07-20T18:24:26.089415Z"
    }
   },
   "outputs": [
    {
     "name": "stdout",
     "output_type": "stream",
     "text": [
      "RMSE(max_depth:30, min_samples_leaf:25): 16.08369316805577\n",
      "\n"
     ]
    }
   ],
   "source": [
    "print(f\"RMSE(max_depth:30, min_samples_leaf:25): {np.sqrt(mean_squared_error(test_y, pred))}\\n\")"
   ]
  }
 ],
 "metadata": {
  "kernelspec": {
   "display_name": "Python 3",
   "language": "python",
   "name": "python3"
  },
  "language_info": {
   "codemirror_mode": {
    "name": "ipython",
    "version": 3
   },
   "file_extension": ".py",
   "mimetype": "text/x-python",
   "name": "python",
   "nbconvert_exporter": "python",
   "pygments_lexer": "ipython3",
   "version": "3.7.6"
  }
 },
 "nbformat": 4,
 "nbformat_minor": 4
}
